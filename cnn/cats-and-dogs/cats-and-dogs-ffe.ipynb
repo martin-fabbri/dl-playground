{
 "cells": [
  {
   "cell_type": "markdown",
   "metadata": {},
   "source": [
    "# Fast Feature Extraction"
   ]
  },
  {
   "cell_type": "markdown",
   "metadata": {},
   "source": [
    "## Without Data Augmentation"
   ]
  },
  {
   "cell_type": "markdown",
   "metadata": {},
   "source": [
    "### Imports"
   ]
  },
  {
   "cell_type": "code",
   "execution_count": 1,
   "metadata": {},
   "outputs": [
    {
     "name": "stderr",
     "output_type": "stream",
     "text": [
      "Using TensorFlow backend.\n"
     ]
    }
   ],
   "source": [
    "import tensorflow as tf\n",
    "from tensorflow import keras\n",
    "from keras.models import Sequential\n",
    "from keras.layers import Conv2D, MaxPooling2D, Dense, Flatten, Dropout\n",
    "from keras.utils import np_utils\n",
    "from keras.callbacks import Callback\n",
    "from keras.preprocessing.image import ImageDataGenerator\n",
    "from keras.applications import VGG16\n",
    "from tensorflow.python.keras.callbacks import TensorBoard\n",
    "\n",
    "import matplotlib.pyplot as plt\n",
    "import matplotlib.image as mpimg\n",
    "from matplotlib import rcParams\n",
    "\n",
    "from time import time\n",
    "import os\n",
    "import wandb\n",
    "from wandb.keras import WandbCallback\n",
    "import numpy as np"
   ]
  },
  {
   "cell_type": "markdown",
   "metadata": {},
   "source": [
    "### Logging code"
   ]
  },
  {
   "cell_type": "code",
   "execution_count": 2,
   "metadata": {},
   "outputs": [],
   "source": [
    "#TENSORBOARD_LOGS_DIR = f\"dandc-{int(time())}\"\n",
    "#tensorboard = TensorBoard(log_dir=f\"logs/{TENSORBOARD_LOGS_DIR}\", write_images=True, histogram_freq=1, write_grads=True)\n",
    "# run = wandb.init()\n",
    "# config = run.config"
   ]
  },
  {
   "cell_type": "markdown",
   "metadata": {},
   "source": [
    "### Network Configuration"
   ]
  },
  {
   "cell_type": "code",
   "execution_count": 3,
   "metadata": {},
   "outputs": [],
   "source": [
    "config = {\n",
    "    'img_width': 150,\n",
    "    'img_height': 150,\n",
    "    'first_layer_conv_width': 3,\n",
    "    'first_layer_conv_height': 3,\n",
    "    'dense_layer_size': 256,\n",
    "    'epochs': 100,    \n",
    "    'optimizer': \"adam\",\n",
    "    'hidden_nodes': 100,\n",
    "    'batch_size': 20\n",
    "}"
   ]
  },
  {
   "cell_type": "markdown",
   "metadata": {},
   "source": [
    "### Images Dataset"
   ]
  },
  {
   "cell_type": "code",
   "execution_count": 11,
   "metadata": {},
   "outputs": [],
   "source": [
    "base_dir = 'E:\\kaggle\\dogs-and-cats\\sm_dataset'\n",
    "train_dir = os.path.join(base_dir, 'train')\n",
    "validation_dir = os.path.join(base_dir, 'validation')\n",
    "test_dir = os.path.join(base_dir, 'test')\n"
   ]
  },
  {
   "cell_type": "markdown",
   "metadata": {},
   "source": [
    "### Transfer Convolutional Base"
   ]
  },
  {
   "cell_type": "code",
   "execution_count": 12,
   "metadata": {},
   "outputs": [
    {
     "name": "stdout",
     "output_type": "stream",
     "text": [
      "_________________________________________________________________\n",
      "Layer (type)                 Output Shape              Param #   \n",
      "=================================================================\n",
      "input_1 (InputLayer)         (None, 150, 150, 3)       0         \n",
      "_________________________________________________________________\n",
      "block1_conv1 (Conv2D)        (None, 150, 150, 64)      1792      \n",
      "_________________________________________________________________\n",
      "block1_conv2 (Conv2D)        (None, 150, 150, 64)      36928     \n",
      "_________________________________________________________________\n",
      "block1_pool (MaxPooling2D)   (None, 75, 75, 64)        0         \n",
      "_________________________________________________________________\n",
      "block2_conv1 (Conv2D)        (None, 75, 75, 128)       73856     \n",
      "_________________________________________________________________\n",
      "block2_conv2 (Conv2D)        (None, 75, 75, 128)       147584    \n",
      "_________________________________________________________________\n",
      "block2_pool (MaxPooling2D)   (None, 37, 37, 128)       0         \n",
      "_________________________________________________________________\n",
      "block3_conv1 (Conv2D)        (None, 37, 37, 256)       295168    \n",
      "_________________________________________________________________\n",
      "block3_conv2 (Conv2D)        (None, 37, 37, 256)       590080    \n",
      "_________________________________________________________________\n",
      "block3_conv3 (Conv2D)        (None, 37, 37, 256)       590080    \n",
      "_________________________________________________________________\n",
      "block3_pool (MaxPooling2D)   (None, 18, 18, 256)       0         \n",
      "_________________________________________________________________\n",
      "block4_conv1 (Conv2D)        (None, 18, 18, 512)       1180160   \n",
      "_________________________________________________________________\n",
      "block4_conv2 (Conv2D)        (None, 18, 18, 512)       2359808   \n",
      "_________________________________________________________________\n",
      "block4_conv3 (Conv2D)        (None, 18, 18, 512)       2359808   \n",
      "_________________________________________________________________\n",
      "block4_pool (MaxPooling2D)   (None, 9, 9, 512)         0         \n",
      "_________________________________________________________________\n",
      "block5_conv1 (Conv2D)        (None, 9, 9, 512)         2359808   \n",
      "_________________________________________________________________\n",
      "block5_conv2 (Conv2D)        (None, 9, 9, 512)         2359808   \n",
      "_________________________________________________________________\n",
      "block5_conv3 (Conv2D)        (None, 9, 9, 512)         2359808   \n",
      "_________________________________________________________________\n",
      "block5_pool (MaxPooling2D)   (None, 4, 4, 512)         0         \n",
      "=================================================================\n",
      "Total params: 14,714,688\n",
      "Trainable params: 14,714,688\n",
      "Non-trainable params: 0\n",
      "_________________________________________________________________\n"
     ]
    }
   ],
   "source": [
    "conv_base = VGG16(\n",
    "    weights = 'imagenet',\n",
    "    include_top = False,\n",
    "    input_shape = (150, 150, 3)\n",
    ")\n",
    "conv_base.summary()"
   ]
  },
  {
   "cell_type": "markdown",
   "metadata": {},
   "source": [
    "### Data Generation"
   ]
  },
  {
   "cell_type": "code",
   "execution_count": 13,
   "metadata": {},
   "outputs": [],
   "source": [
    "train_datagen = ImageDataGenerator(rescale=1./255)\n",
    "test_datagen = ImageDataGenerator(rescale=1./255)"
   ]
  },
  {
   "cell_type": "code",
   "execution_count": 18,
   "metadata": {},
   "outputs": [],
   "source": [
    "def extract_features(directory, sample_count):\n",
    "    features = np.zeros(shape=(sample_count, 4, 4, 512))\n",
    "    labels = np.zeros(shape=(sample_count))\n",
    "    generator = train_datagen.flow_from_directory(\n",
    "        directory,\n",
    "        target_size=(150, 150),\n",
    "        batch_size=config['batch_size'],\n",
    "        class_mode='binary')\n",
    "    i = 0\n",
    "    for inputs_batch, labels_batch in generator:\n",
    "        features_batch = conv_base.predict(inputs_batch)\n",
    "        features[i * config['batch_size'] : (i + 1) * config['batch_size']] = features_batch\n",
    "        labels[i * config['batch_size'] : (i + 1) * config['batch_size']] = labels_batch\n",
    "        i += 1\n",
    "        if i * config['batch_size'] >= sample_count:\n",
    "            break\n",
    "    return features, labels "
   ]
  },
  {
   "cell_type": "code",
   "execution_count": 19,
   "metadata": {},
   "outputs": [
    {
     "name": "stdout",
     "output_type": "stream",
     "text": [
      "Found 2000 images belonging to 2 classes.\n"
     ]
    }
   ],
   "source": [
    "train_features, train_labels = extract_features(train_dir, 2000)"
   ]
  },
  {
   "cell_type": "code",
   "execution_count": 23,
   "metadata": {},
   "outputs": [
    {
     "name": "stdout",
     "output_type": "stream",
     "text": [
      "Found 1000 images belonging to 2 classes.\n"
     ]
    }
   ],
   "source": [
    "validation_features, validation_labels = extract_features(validation_dir, 1000)"
   ]
  },
  {
   "cell_type": "code",
   "execution_count": 24,
   "metadata": {},
   "outputs": [
    {
     "name": "stdout",
     "output_type": "stream",
     "text": [
      "Found 1000 images belonging to 2 classes.\n"
     ]
    }
   ],
   "source": [
    "test_features, test_labels = extract_features(test_dir, 1000)"
   ]
  },
  {
   "cell_type": "code",
   "execution_count": 25,
   "metadata": {},
   "outputs": [],
   "source": [
    "train_features = np.reshape(train_features, (2000, 4 * 4 * 512))\n",
    "validation_features = np.reshape(validation_features, (1000, 4 * 4 * 512))\n",
    "test_features = np.reshape(test_features, (1000, 4 * 4 * 512))"
   ]
  },
  {
   "cell_type": "markdown",
   "metadata": {},
   "source": [
    "### Create Model"
   ]
  },
  {
   "cell_type": "code",
   "execution_count": 26,
   "metadata": {},
   "outputs": [],
   "source": [
    "model = Sequential()\n",
    "model.add(Dense(config['dense_layer_size'], activation='relu', input_dim=4 * 4 * 512))\n",
    "model.add(Dropout(0.5))\n",
    "model.add(Dense(1, activation=\"sigmoid\"))\n",
    "model.compile(loss='binary_crossentropy', optimizer='adam', metrics=['accuracy'])"
   ]
  },
  {
   "cell_type": "code",
   "execution_count": 27,
   "metadata": {},
   "outputs": [
    {
     "name": "stdout",
     "output_type": "stream",
     "text": [
      "_________________________________________________________________\n",
      "Layer (type)                 Output Shape              Param #   \n",
      "=================================================================\n",
      "dense_1 (Dense)              (None, 512)               4194816   \n",
      "_________________________________________________________________\n",
      "dropout_1 (Dropout)          (None, 512)               0         \n",
      "_________________________________________________________________\n",
      "dense_2 (Dense)              (None, 1)                 513       \n",
      "=================================================================\n",
      "Total params: 4,195,329\n",
      "Trainable params: 4,195,329\n",
      "Non-trainable params: 0\n",
      "_________________________________________________________________\n"
     ]
    }
   ],
   "source": [
    "model.summary()"
   ]
  },
  {
   "cell_type": "markdown",
   "metadata": {},
   "source": [
    "### Training"
   ]
  },
  {
   "cell_type": "code",
   "execution_count": 30,
   "metadata": {},
   "outputs": [
    {
     "name": "stdout",
     "output_type": "stream",
     "text": [
      "Train on 2000 samples, validate on 1000 samples\n",
      "Epoch 1/100\n",
      "2000/2000 [==============================] - 2s 918us/step - loss: 0.5404 - acc: 0.7935 - val_loss: 0.2834 - val_acc: 0.8680\n",
      "Epoch 2/100\n",
      "2000/2000 [==============================] - 1s 470us/step - loss: 0.2293 - acc: 0.9015 - val_loss: 0.2745 - val_acc: 0.8830\n",
      "Epoch 3/100\n",
      "2000/2000 [==============================] - 1s 491us/step - loss: 0.1819 - acc: 0.9280 - val_loss: 0.3195 - val_acc: 0.8520\n",
      "Epoch 4/100\n",
      "2000/2000 [==============================] - 1s 483us/step - loss: 0.1788 - acc: 0.9275 - val_loss: 0.2893 - val_acc: 0.8630\n",
      "Epoch 5/100\n",
      "2000/2000 [==============================] - 1s 507us/step - loss: 0.1293 - acc: 0.9475 - val_loss: 0.2870 - val_acc: 0.8860\n",
      "Epoch 6/100\n",
      "2000/2000 [==============================] - 1s 477us/step - loss: 0.1169 - acc: 0.9485 - val_loss: 0.2803 - val_acc: 0.8900\n",
      "Epoch 7/100\n",
      "2000/2000 [==============================] - 1s 482us/step - loss: 0.0782 - acc: 0.9675 - val_loss: 0.3487 - val_acc: 0.8750\n",
      "Epoch 8/100\n",
      "2000/2000 [==============================] - 1s 516us/step - loss: 0.0807 - acc: 0.9700 - val_loss: 0.3196 - val_acc: 0.8840\n",
      "Epoch 9/100\n",
      "2000/2000 [==============================] - 1s 488us/step - loss: 0.0533 - acc: 0.9795 - val_loss: 0.3264 - val_acc: 0.8850\n",
      "Epoch 10/100\n",
      "2000/2000 [==============================] - 1s 477us/step - loss: 0.0579 - acc: 0.9790 - val_loss: 0.3429 - val_acc: 0.8720\n",
      "Epoch 11/100\n",
      "2000/2000 [==============================] - 1s 485us/step - loss: 0.0339 - acc: 0.9890 - val_loss: 0.4018 - val_acc: 0.8640\n",
      "Epoch 12/100\n",
      "2000/2000 [==============================] - 1s 516us/step - loss: 0.0266 - acc: 0.9905 - val_loss: 0.4729 - val_acc: 0.8600\n",
      "Epoch 13/100\n",
      "2000/2000 [==============================] - 1s 494us/step - loss: 0.0480 - acc: 0.9825 - val_loss: 0.3871 - val_acc: 0.8770\n",
      "Epoch 14/100\n",
      "2000/2000 [==============================] - 1s 481us/step - loss: 0.0301 - acc: 0.9900 - val_loss: 0.3759 - val_acc: 0.8890\n",
      "Epoch 15/100\n",
      "2000/2000 [==============================] - 1s 487us/step - loss: 0.0237 - acc: 0.9925 - val_loss: 0.6937 - val_acc: 0.8550\n",
      "Epoch 16/100\n",
      "2000/2000 [==============================] - 1s 473us/step - loss: 0.0254 - acc: 0.9900 - val_loss: 0.4199 - val_acc: 0.8800\n",
      "Epoch 17/100\n",
      "2000/2000 [==============================] - 1s 494us/step - loss: 0.0322 - acc: 0.9865 - val_loss: 0.4807 - val_acc: 0.8770\n",
      "Epoch 18/100\n",
      "2000/2000 [==============================] - 1s 471us/step - loss: 0.0190 - acc: 0.9930 - val_loss: 0.4640 - val_acc: 0.8940\n",
      "Epoch 19/100\n",
      "2000/2000 [==============================] - 1s 491us/step - loss: 0.0154 - acc: 0.9945 - val_loss: 0.4377 - val_acc: 0.8920\n",
      "Epoch 20/100\n",
      "2000/2000 [==============================] - 1s 501us/step - loss: 0.0295 - acc: 0.9880 - val_loss: 0.4844 - val_acc: 0.8770\n",
      "Epoch 21/100\n",
      "2000/2000 [==============================] - 1s 475us/step - loss: 0.0676 - acc: 0.9745 - val_loss: 0.4383 - val_acc: 0.8810\n",
      "Epoch 22/100\n",
      "2000/2000 [==============================] - 1s 482us/step - loss: 0.0781 - acc: 0.9715 - val_loss: 0.4250 - val_acc: 0.8820\n",
      "Epoch 23/100\n",
      "2000/2000 [==============================] - 1s 493us/step - loss: 0.0493 - acc: 0.9785 - val_loss: 0.4347 - val_acc: 0.8780\n",
      "Epoch 24/100\n",
      "2000/2000 [==============================] - 1s 466us/step - loss: 0.0394 - acc: 0.9845 - val_loss: 0.4720 - val_acc: 0.8840\n",
      "Epoch 25/100\n",
      "2000/2000 [==============================] - 1s 476us/step - loss: 0.0168 - acc: 0.9945 - val_loss: 0.4804 - val_acc: 0.8800\n",
      "Epoch 26/100\n",
      "2000/2000 [==============================] - 1s 469us/step - loss: 0.0245 - acc: 0.9905 - val_loss: 0.4553 - val_acc: 0.8810\n",
      "Epoch 27/100\n",
      "2000/2000 [==============================] - 1s 475us/step - loss: 0.0208 - acc: 0.9930 - val_loss: 0.5394 - val_acc: 0.8740\n",
      "Epoch 28/100\n",
      "2000/2000 [==============================] - 1s 500us/step - loss: 0.0255 - acc: 0.9895 - val_loss: 0.5456 - val_acc: 0.8810\n",
      "Epoch 29/100\n",
      "2000/2000 [==============================] - 1s 475us/step - loss: 0.0224 - acc: 0.9930 - val_loss: 0.5209 - val_acc: 0.8910\n",
      "Epoch 30/100\n",
      "2000/2000 [==============================] - 1s 484us/step - loss: 0.0149 - acc: 0.9955 - val_loss: 0.5754 - val_acc: 0.8810\n",
      "Epoch 31/100\n",
      "2000/2000 [==============================] - 1s 476us/step - loss: 0.0299 - acc: 0.9865 - val_loss: 0.5092 - val_acc: 0.8790\n",
      "Epoch 32/100\n",
      "2000/2000 [==============================] - 1s 482us/step - loss: 0.0233 - acc: 0.9915 - val_loss: 0.5375 - val_acc: 0.8790\n",
      "Epoch 33/100\n",
      "2000/2000 [==============================] - 1s 474us/step - loss: 0.0085 - acc: 0.9960 - val_loss: 0.7446 - val_acc: 0.8500\n",
      "Epoch 34/100\n",
      "2000/2000 [==============================] - 1s 469us/step - loss: 0.0177 - acc: 0.9915 - val_loss: 0.5734 - val_acc: 0.8740\n",
      "Epoch 35/100\n",
      "2000/2000 [==============================] - 1s 484us/step - loss: 0.0141 - acc: 0.9940 - val_loss: 0.5504 - val_acc: 0.8840\n",
      "Epoch 36/100\n",
      "2000/2000 [==============================] - 1s 474us/step - loss: 0.0075 - acc: 0.9975 - val_loss: 0.5861 - val_acc: 0.8780\n",
      "Epoch 37/100\n",
      "2000/2000 [==============================] - 1s 467us/step - loss: 0.0057 - acc: 0.9985 - val_loss: 0.5795 - val_acc: 0.8840\n",
      "Epoch 38/100\n",
      "2000/2000 [==============================] - 1s 467us/step - loss: 0.0027 - acc: 0.9995 - val_loss: 0.7547 - val_acc: 0.8690\n",
      "Epoch 39/100\n",
      "2000/2000 [==============================] - 1s 468us/step - loss: 0.0126 - acc: 0.9950 - val_loss: 0.6882 - val_acc: 0.8750\n",
      "Epoch 40/100\n",
      "2000/2000 [==============================] - 1s 483us/step - loss: 0.0163 - acc: 0.9950 - val_loss: 0.7262 - val_acc: 0.8840\n",
      "Epoch 41/100\n",
      "2000/2000 [==============================] - 1s 476us/step - loss: 0.0328 - acc: 0.9885 - val_loss: 0.8306 - val_acc: 0.8490\n",
      "Epoch 42/100\n",
      "2000/2000 [==============================] - 1s 475us/step - loss: 0.0295 - acc: 0.9900 - val_loss: 0.6832 - val_acc: 0.8760\n",
      "Epoch 43/100\n",
      "2000/2000 [==============================] - 1s 483us/step - loss: 0.0276 - acc: 0.9900 - val_loss: 0.6234 - val_acc: 0.8810\n",
      "Epoch 44/100\n",
      "2000/2000 [==============================] - 1s 477us/step - loss: 0.0534 - acc: 0.9810 - val_loss: 0.8556 - val_acc: 0.8440\n",
      "Epoch 45/100\n",
      "2000/2000 [==============================] - 1s 511us/step - loss: 0.0503 - acc: 0.9810 - val_loss: 0.5891 - val_acc: 0.8810\n",
      "Epoch 46/100\n",
      "2000/2000 [==============================] - 1s 495us/step - loss: 0.0206 - acc: 0.9910 - val_loss: 0.5777 - val_acc: 0.8760\n",
      "Epoch 47/100\n",
      "2000/2000 [==============================] - 1s 484us/step - loss: 0.0164 - acc: 0.9945 - val_loss: 0.5450 - val_acc: 0.8800\n",
      "Epoch 48/100\n",
      "2000/2000 [==============================] - 1s 483us/step - loss: 0.0120 - acc: 0.9945 - val_loss: 0.6242 - val_acc: 0.8810\n",
      "Epoch 49/100\n",
      "2000/2000 [==============================] - 1s 467us/step - loss: 0.0140 - acc: 0.9940 - val_loss: 0.5773 - val_acc: 0.8890\n",
      "Epoch 50/100\n",
      "2000/2000 [==============================] - 1s 484us/step - loss: 0.0064 - acc: 0.9975 - val_loss: 0.6416 - val_acc: 0.8810\n",
      "Epoch 51/100\n",
      "2000/2000 [==============================] - 1s 491us/step - loss: 0.0057 - acc: 0.9980 - val_loss: 0.6446 - val_acc: 0.8820\n",
      "Epoch 52/100\n",
      "2000/2000 [==============================] - 1s 491us/step - loss: 0.0039 - acc: 0.9995 - val_loss: 0.7053 - val_acc: 0.8860\n",
      "Epoch 53/100\n",
      "2000/2000 [==============================] - 1s 482us/step - loss: 0.0050 - acc: 0.9980 - val_loss: 0.6613 - val_acc: 0.8820\n",
      "Epoch 54/100\n",
      "2000/2000 [==============================] - 1s 475us/step - loss: 0.0032 - acc: 0.9995 - val_loss: 0.7471 - val_acc: 0.8810\n",
      "Epoch 55/100\n",
      "2000/2000 [==============================] - 1s 484us/step - loss: 0.0021 - acc: 0.9995 - val_loss: 0.7064 - val_acc: 0.8800\n",
      "Epoch 56/100\n",
      "2000/2000 [==============================] - 1s 478us/step - loss: 0.0016 - acc: 1.0000 - val_loss: 0.6989 - val_acc: 0.8810\n",
      "Epoch 57/100\n",
      "2000/2000 [==============================] - 1s 479us/step - loss: 8.0440e-04 - acc: 1.0000 - val_loss: 0.7249 - val_acc: 0.8820\n",
      "Epoch 58/100\n",
      "2000/2000 [==============================] - 1s 477us/step - loss: 0.0023 - acc: 1.0000 - val_loss: 0.8370 - val_acc: 0.8750\n",
      "Epoch 59/100\n",
      "2000/2000 [==============================] - 1s 474us/step - loss: 0.0767 - acc: 0.9750 - val_loss: 0.7887 - val_acc: 0.8720\n",
      "Epoch 60/100\n",
      "2000/2000 [==============================] - 1s 468us/step - loss: 0.0803 - acc: 0.9710 - val_loss: 0.6909 - val_acc: 0.8850\n",
      "Epoch 61/100\n",
      "2000/2000 [==============================] - 1s 482us/step - loss: 0.0284 - acc: 0.9905 - val_loss: 0.5825 - val_acc: 0.8770\n",
      "Epoch 62/100\n",
      "2000/2000 [==============================] - 1s 493us/step - loss: 0.0084 - acc: 0.9965 - val_loss: 0.7529 - val_acc: 0.8750\n",
      "Epoch 63/100\n",
      "2000/2000 [==============================] - 1s 501us/step - loss: 0.0102 - acc: 0.9945 - val_loss: 0.7365 - val_acc: 0.8680\n",
      "Epoch 64/100\n",
      "2000/2000 [==============================] - 1s 466us/step - loss: 0.0095 - acc: 0.9970 - val_loss: 0.7799 - val_acc: 0.8720\n",
      "Epoch 65/100\n",
      "2000/2000 [==============================] - 1s 482us/step - loss: 0.0085 - acc: 0.9955 - val_loss: 0.8005 - val_acc: 0.8770\n",
      "Epoch 66/100\n",
      "2000/2000 [==============================] - 1s 467us/step - loss: 0.0235 - acc: 0.9895 - val_loss: 0.6532 - val_acc: 0.8840\n",
      "Epoch 67/100\n",
      "2000/2000 [==============================] - 1s 492us/step - loss: 0.0103 - acc: 0.9965 - val_loss: 0.7242 - val_acc: 0.8760\n",
      "Epoch 68/100\n",
      "2000/2000 [==============================] - 1s 474us/step - loss: 0.0053 - acc: 0.9985 - val_loss: 0.7278 - val_acc: 0.8830\n",
      "Epoch 69/100\n",
      "2000/2000 [==============================] - 1s 467us/step - loss: 0.0073 - acc: 0.9980 - val_loss: 0.7120 - val_acc: 0.8850\n",
      "Epoch 70/100\n",
      "2000/2000 [==============================] - 1s 487us/step - loss: 0.0219 - acc: 0.9930 - val_loss: 0.6841 - val_acc: 0.8760\n",
      "Epoch 71/100\n",
      "2000/2000 [==============================] - 1s 475us/step - loss: 0.0106 - acc: 0.9955 - val_loss: 0.6467 - val_acc: 0.8900\n",
      "Epoch 72/100\n",
      "2000/2000 [==============================] - 1s 479us/step - loss: 0.0053 - acc: 0.9980 - val_loss: 0.6434 - val_acc: 0.8750\n",
      "Epoch 73/100\n",
      "2000/2000 [==============================] - 1s 494us/step - loss: 0.0070 - acc: 0.9970 - val_loss: 0.7776 - val_acc: 0.8840\n",
      "Epoch 74/100\n",
      "2000/2000 [==============================] - 1s 480us/step - loss: 0.0034 - acc: 0.9985 - val_loss: 0.8207 - val_acc: 0.8740\n",
      "Epoch 75/100\n",
      "2000/2000 [==============================] - 1s 467us/step - loss: 0.0023 - acc: 0.9995 - val_loss: 0.7851 - val_acc: 0.8860\n",
      "Epoch 76/100\n",
      "2000/2000 [==============================] - 1s 501us/step - loss: 0.0074 - acc: 0.9975 - val_loss: 0.9723 - val_acc: 0.8500\n",
      "Epoch 77/100\n",
      "2000/2000 [==============================] - 1s 492us/step - loss: 0.0262 - acc: 0.9895 - val_loss: 0.7356 - val_acc: 0.8720\n",
      "Epoch 78/100\n",
      "2000/2000 [==============================] - 1s 491us/step - loss: 0.0502 - acc: 0.9835 - val_loss: 0.8167 - val_acc: 0.8830\n",
      "Epoch 79/100\n",
      "2000/2000 [==============================] - 1s 485us/step - loss: 0.0623 - acc: 0.9855 - val_loss: 0.8352 - val_acc: 0.8840\n",
      "Epoch 80/100\n",
      "2000/2000 [==============================] - 1s 484us/step - loss: 0.0270 - acc: 0.9905 - val_loss: 0.6683 - val_acc: 0.8800\n",
      "Epoch 81/100\n",
      "2000/2000 [==============================] - 1s 491us/step - loss: 0.0074 - acc: 0.9955 - val_loss: 0.7308 - val_acc: 0.8820\n",
      "Epoch 82/100\n",
      "2000/2000 [==============================] - 1s 482us/step - loss: 0.0132 - acc: 0.9950 - val_loss: 0.7731 - val_acc: 0.8820\n",
      "Epoch 83/100\n",
      "2000/2000 [==============================] - 1s 478us/step - loss: 0.0163 - acc: 0.9940 - val_loss: 1.0931 - val_acc: 0.8610\n",
      "Epoch 84/100\n",
      "2000/2000 [==============================] - 1s 491us/step - loss: 0.0241 - acc: 0.9910 - val_loss: 1.1361 - val_acc: 0.8470\n",
      "Epoch 85/100\n",
      "2000/2000 [==============================] - 1s 474us/step - loss: 0.0259 - acc: 0.9925 - val_loss: 0.7935 - val_acc: 0.8920\n",
      "Epoch 86/100\n",
      "2000/2000 [==============================] - 1s 475us/step - loss: 0.0065 - acc: 0.9970 - val_loss: 0.8076 - val_acc: 0.8770\n",
      "Epoch 87/100\n",
      "2000/2000 [==============================] - 1s 484us/step - loss: 0.0060 - acc: 0.9980 - val_loss: 0.7870 - val_acc: 0.8740\n",
      "Epoch 88/100\n",
      "2000/2000 [==============================] - 1s 466us/step - loss: 0.0024 - acc: 1.0000 - val_loss: 0.7338 - val_acc: 0.8830\n",
      "Epoch 89/100\n",
      "2000/2000 [==============================] - 1s 482us/step - loss: 0.0019 - acc: 0.9995 - val_loss: 0.7686 - val_acc: 0.8800\n",
      "Epoch 90/100\n",
      "2000/2000 [==============================] - 1s 467us/step - loss: 0.0021 - acc: 0.9985 - val_loss: 0.7996 - val_acc: 0.8770\n",
      "Epoch 91/100\n",
      "2000/2000 [==============================] - 1s 483us/step - loss: 0.0037 - acc: 0.9990 - val_loss: 0.8290 - val_acc: 0.8790\n",
      "Epoch 92/100\n",
      "2000/2000 [==============================] - 1s 476us/step - loss: 0.0156 - acc: 0.9945 - val_loss: 0.8353 - val_acc: 0.8730\n",
      "Epoch 93/100\n",
      "2000/2000 [==============================] - 1s 482us/step - loss: 0.0189 - acc: 0.9920 - val_loss: 0.7676 - val_acc: 0.8880\n",
      "Epoch 94/100\n",
      "2000/2000 [==============================] - 1s 476us/step - loss: 0.0201 - acc: 0.9930 - val_loss: 0.8423 - val_acc: 0.8900\n",
      "Epoch 95/100\n",
      "2000/2000 [==============================] - 1s 486us/step - loss: 0.0067 - acc: 0.9980 - val_loss: 0.8077 - val_acc: 0.8740\n",
      "Epoch 96/100\n",
      "2000/2000 [==============================] - 1s 472us/step - loss: 0.0071 - acc: 0.9970 - val_loss: 0.8945 - val_acc: 0.8780\n",
      "Epoch 97/100\n",
      "2000/2000 [==============================] - 1s 466us/step - loss: 0.0058 - acc: 0.9980 - val_loss: 0.8175 - val_acc: 0.8900\n",
      "Epoch 98/100\n",
      "2000/2000 [==============================] - 1s 481us/step - loss: 0.0048 - acc: 0.9980 - val_loss: 1.1305 - val_acc: 0.8490\n",
      "Epoch 99/100\n",
      "2000/2000 [==============================] - 1s 477us/step - loss: 0.0069 - acc: 0.9970 - val_loss: 1.0452 - val_acc: 0.8760\n",
      "Epoch 100/100\n",
      "2000/2000 [==============================] - 1s 475us/step - loss: 0.0324 - acc: 0.9915 - val_loss: 0.9348 - val_acc: 0.8770\n"
     ]
    }
   ],
   "source": [
    "history = model.fit(train_features, train_labels, epochs=config['epochs'], batch_size=config['batch_size'], \n",
    "                    validation_data=(validation_features, validation_labels))"
   ]
  },
  {
   "cell_type": "markdown",
   "metadata": {},
   "source": [
    "### Save model"
   ]
  },
  {
   "cell_type": "code",
   "execution_count": 31,
   "metadata": {},
   "outputs": [],
   "source": [
    "model.save('candd03.h5')"
   ]
  },
  {
   "cell_type": "markdown",
   "metadata": {},
   "source": [
    "### Loss & Accuracy"
   ]
  },
  {
   "cell_type": "code",
   "execution_count": 32,
   "metadata": {},
   "outputs": [
    {
     "data": {
      "image/png": "[encoded data removed]",
      "text/plain": [
       "<Figure size 432x288 with 1 Axes>"
      ]
     },
     "metadata": {
      "needs_background": "light"
     },
     "output_type": "display_data"
    }
   ],
   "source": [
    "acc = history.history['acc']\n",
    "val_acc = history.history['val_acc']\n",
    "loss = history.history['loss']\n",
    "val_loss = history.history['val_loss']\n",
    "epochs = range(1, len(acc) + 1)\n",
    "plt.plot(epochs, acc, 'bo', label='Training Acc')\n",
    "plt.plot(epochs, val_acc, 'b', label='Validation Acc')\n",
    "plt.title('Training and Validation Accuracy')\n",
    "plt.legend()\n",
    "plt.show()\n"
   ]
  },
  {
   "cell_type": "markdown",
   "metadata": {},
   "source": [
    "### Training and Validation loss"
   ]
  },
  {
   "cell_type": "code",
   "execution_count": 33,
   "metadata": {},
   "outputs": [
    {
     "data": {
      "image/png": "[encoded data removed]",
      "text/plain": [
       "<Figure size 432x288 with 1 Axes>"
      ]
     },
     "metadata": {
      "needs_background": "light"
     },
     "output_type": "display_data"
    }
   ],
   "source": [
    "plt.plot(epochs, loss, 'bo', label='Training Loss')\n",
    "plt.plot(epochs, val_loss, 'b', label='Validation Loss')\n",
    "plt.title('Training and Validation Loss')\n",
    "plt.legend()\n",
    "plt.show()"
   ]
  },
  {
   "cell_type": "code",
   "execution_count": null,
   "metadata": {},
   "outputs": [],
   "source": []
  }
 ],
 "metadata": {
  "kernelspec": {
   "display_name": "Python 3",
   "language": "python",
   "name": "python3"
  },
  "language_info": {
   "codemirror_mode": {
    "name": "ipython",
    "version": 3
   },
   "file_extension": ".py",
   "mimetype": "text/x-python",
   "name": "python",
   "nbconvert_exporter": "python",
   "pygments_lexer": "ipython3",
   "version": "3.6.7"
  }
 },
 "nbformat": 4,
 "nbformat_minor": 2
}
